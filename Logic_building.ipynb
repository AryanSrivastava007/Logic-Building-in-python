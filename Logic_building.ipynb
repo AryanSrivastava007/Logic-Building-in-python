{
  "nbformat": 4,
  "nbformat_minor": 0,
  "metadata": {
    "colab": {
      "provenance": [],
      "authorship_tag": "ABX9TyO0mbTUBRiT1fMMtKJx48gy",
      "include_colab_link": true
    },
    "kernelspec": {
      "name": "python3",
      "display_name": "Python 3"
    },
    "language_info": {
      "name": "python"
    }
  },
  "cells": [
    {
      "cell_type": "markdown",
      "metadata": {
        "id": "view-in-github",
        "colab_type": "text"
      },
      "source": [
        "<a href=\"https://colab.research.google.com/github/AryanSrivastava007/Logic-Building-in-python/blob/main/Logic_building.ipynb\" target=\"_parent\"><img src=\"https://colab.research.google.com/assets/colab-badge.svg\" alt=\"Open In Colab\"/></a>"
      ]
    },
    {
      "cell_type": "code",
      "execution_count": 5,
      "metadata": {
        "colab": {
          "base_uri": "https://localhost:8080/",
          "height": 0
        },
        "id": "bbvzQGng1uCk",
        "outputId": "49cf6d8a-1c2c-4b77-8681-032faf975ed3"
      },
      "outputs": [
        {
          "output_type": "stream",
          "name": "stdout",
          "text": [
            "enter the number of digits : 7\n",
            "0\n",
            "1\n",
            "1\n",
            "2\n",
            "3\n",
            "5\n",
            "8\n"
          ]
        }
      ],
      "source": [
        "#fibonacci series for n digits\n",
        "def fibonacci(n):\n",
        "    a=0\n",
        "    b=1\n",
        "    if n==1:\n",
        "        print(a)\n",
        "        return\n",
        "    else:\n",
        "        print(a)\n",
        "        print(b)\n",
        "        for i in range(2,n):\n",
        "            c=a+b\n",
        "            a=b\n",
        "            b=c\n",
        "            print(c)\n",
        "        return\n",
        "n=int(input(\"enter the number of digits : \"))\n",
        "fibonacci(n)"
      ]
    },
    {
      "cell_type": "code",
      "source": [
        "#prime number check\n",
        "def prime(n):\n",
        "    if n==1:\n",
        "        return False\n",
        "    for i in range(2,n):\n",
        "        if n%i == 0:\n",
        "            return False\n",
        "    return True\n",
        "n=int(input(\"enter the number : \"))\n",
        "if prime(n):\n",
        "    print(\"prime\")\n",
        "else:\n",
        "    print(\"not prime\")"
      ],
      "metadata": {
        "colab": {
          "base_uri": "https://localhost:8080/",
          "height": 0
        },
        "id": "q7_DI3_d3fBq",
        "outputId": "213fad27-c288-4da0-9f76-538a6622519a"
      },
      "execution_count": 20,
      "outputs": [
        {
          "output_type": "stream",
          "name": "stdout",
          "text": [
            "enter the number : 4\n",
            "not prime\n"
          ]
        }
      ]
    },
    {
      "cell_type": "code",
      "source": [
        "def prime_val(x):\n",
        "    if x%2==1:\n",
        "        print(\"not prime\")\n",
        "    else:\n",
        "        print(\"prime\")\n",
        "n=int(input(\"enter the number : \"))\n",
        "prime_val(n)"
      ],
      "metadata": {
        "colab": {
          "base_uri": "https://localhost:8080/",
          "height": 0
        },
        "id": "fHDl-J8e4Rv_",
        "outputId": "d418e0ed-70ba-4168-f89c-8a3f4be9eb65"
      },
      "execution_count": 19,
      "outputs": [
        {
          "output_type": "stream",
          "name": "stdout",
          "text": [
            "enter the number : 11\n",
            "not prime\n"
          ]
        }
      ]
    },
    {
      "cell_type": "code",
      "source": [
        "#find the max element in an array\n",
        "def max_ele(arr):\n",
        "    if len(arr)==1:\n",
        "        return arr[0]\n",
        "    max_num=arr[0]\n",
        "    for i in range(0,len(arr)):\n",
        "        if arr[i]>max_num:\n",
        "            max_num = arr[i]\n",
        "    return max_num\n",
        "\n",
        "print(max_ele([10,5,20,8,15]))"
      ],
      "metadata": {
        "colab": {
          "base_uri": "https://localhost:8080/",
          "height": 0
        },
        "id": "XJ2rC6pV6wov",
        "outputId": "c314d1f5-e30b-4ba8-c96a-f6f846232a2f"
      },
      "execution_count": 37,
      "outputs": [
        {
          "output_type": "stream",
          "name": "stdout",
          "text": [
            "20\n"
          ]
        }
      ]
    },
    {
      "cell_type": "code",
      "source": [
        "#Given an array of integers, return indices of the two numbers such that they add up to a specific target.\n",
        "def two_sum(nums,target):\n",
        "    for i in range(len(nums)):\n",
        "        for j in range(i+1,len(nums)):\n",
        "            if nums[i]+nums[j]==target:\n",
        "                return [i,j]\n",
        "\n",
        "print(two_sum([1,2,3,4,5,6],7))"
      ],
      "metadata": {
        "colab": {
          "base_uri": "https://localhost:8080/",
          "height": 0
        },
        "id": "zWXAbKCW9mz9",
        "outputId": "dc929224-8ae5-45d5-8bb2-121f64127570"
      },
      "execution_count": 39,
      "outputs": [
        {
          "output_type": "stream",
          "name": "stdout",
          "text": [
            "[0, 5]\n"
          ]
        }
      ]
    }
  ]
}